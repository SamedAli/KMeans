{
 "cells": [
  {
   "cell_type": "code",
   "execution_count": null,
   "id": "c9247870",
   "metadata": {},
   "outputs": [],
   "source": [
    "import pandas as pd\n",
    "import plotly.express as px\n",
    "import matplotlib.pyplot as plt\n",
    "from sklearn.cluster import KMeans\n",
    "import numpy as np"
   ]
  },
  {
   "cell_type": "code",
   "execution_count": null,
   "id": "8107ffad",
   "metadata": {},
   "outputs": [],
   "source": [
    "file_path=\"../assets/data2.csv\""
   ]
  },
  {
   "cell_type": "code",
   "execution_count": null,
   "id": "393fa650",
   "metadata": {},
   "outputs": [],
   "source": [
    "def plot_csv_data(file1, file2):\n",
    "    data1 = pd.read_csv(file1, header=None)\n",
    "    data2 = pd.read_csv(file2, header=None)\n",
    "\n",
    "    x1, y1, z1 = data1[0], data1[1], data1[2]\n",
    "    x2, y2, z2 = data2[0], data2[1], data2[2]\n",
    "\n",
    "    fig = plt.figure()\n",
    "    ax = fig.add_subplot(111, projection='3d')\n",
    "\n",
    "    ax.scatter(x1, y1, z1, color='blue', label='File 1', s=50, zorder=2)  # Data from the first CSV file\n",
    "    ax.scatter(x2, y2, z2, color='red', label='File 2', s=1, alpha=.01)   # Data from the second CSV file\n",
    "\n",
    "    ax.set_xlabel('X')\n",
    "    ax.set_ylabel('Y')\n",
    "    ax.set_zlabel('Z')\n",
    "    ax.set_title('3D Scatter Plot')\n",
    "    ax.legend()\n",
    "\n",
    "    plt.show()\n"
   ]
  },
  {
   "cell_type": "code",
   "execution_count": null,
   "id": "5ea9dd93",
   "metadata": {},
   "outputs": [],
   "source": [
    "plot_csv_data(\"../assets/centroids.csv\", file_path)"
   ]
  },
  {
   "cell_type": "code",
   "execution_count": null,
   "id": "80ea0d65",
   "metadata": {},
   "outputs": [],
   "source": [
    "# Function to read data from a CSV file\n",
    "def load_data(file_path):\n",
    "    # Read the data from the file\n",
    "    data = pd.read_csv(file_path, header=None)\n",
    "    return data.values  # Convert to a NumPy array\n",
    "\n",
    "# Perform KMeans clustering\n",
    "def perform_kmeans(data, num_clusters=3):\n",
    "    # Initialize the KMeans model\n",
    "    kmeans = KMeans(n_clusters=num_clusters)\n",
    "    \n",
    "    # Fit the model to the data\n",
    "    kmeans.fit(data)\n",
    "    \n",
    "    # Get the cluster centers and the labels\n",
    "    centers = kmeans.cluster_centers_\n",
    "    labels = kmeans.labels_\n",
    "    \n",
    "    return labels, centers\n",
    "\n",
    "# Plot the results for 2D data\n",
    "def plot_2d(data, labels, centers):\n",
    "    plt.scatter(data[:, 0], data[:, 1], c=labels, cmap='viridis')\n",
    "    plt.scatter(centers[:, 0], centers[:, 1], s=200, c='red', marker='X')\n",
    "    plt.title(\"KMeans Clustering - 2D\")\n",
    "    plt.xlabel('X')\n",
    "    plt.ylabel('Y')\n",
    "    plt.show()\n",
    "\n",
    "# Plot the results for 3D data\n",
    "def plot_3d(data, labels, centers):\n",
    "    fig = plt.figure()\n",
    "    ax = fig.add_subplot(111, projection='3d')\n",
    "    ax.scatter(data[:, 0], data[:, 1], data[:, 2], c=labels, cmap='viridis')\n",
    "    ax.scatter(centers[:, 0], centers[:, 1], centers[:, 2], s=200, c='red', marker='X')\n",
    "    ax.set_title(\"KMeans Clustering - 3D\")\n",
    "    ax.set_xlabel('X')\n",
    "    ax.set_ylabel('Y')\n",
    "    ax.set_zlabel('Z')\n",
    "    plt.show()\n",
    "\n",
    "# Main function to execute the clustering\n",
    "def main(file_path, num_clusters):\n",
    "    # Load the data (replace with the actual path to your CSV file)\n",
    "    data = load_data(file_path)\n",
    "    \n",
    "    # Set the number of clusters you want (default is 3)\n",
    "    \n",
    "\n",
    "    # Perform KMeans clustering\n",
    "    labels, centers = perform_kmeans(data, num_clusters)\n",
    "\n",
    "    # Plot the results based on the number of dimensions in the data\n",
    "    if data.shape[1] == 2:\n",
    "        plot_2d(data, labels, centers)\n",
    "    elif data.shape[1] == 3:\n",
    "        plot_3d(data, labels, centers)\n",
    "    else:\n",
    "        print(\"Only 2D or 3D data can be plotted.\")"
   ]
  },
  {
   "cell_type": "code",
   "execution_count": null,
   "id": "3e81f0ce",
   "metadata": {},
   "outputs": [],
   "source": [
    "main(file_path=file_path, num_clusters = 6)"
   ]
  }
 ],
 "metadata": {
  "kernelspec": {
   "display_name": "python-playground",
   "language": "python",
   "name": "python3"
  },
  "language_info": {
   "codemirror_mode": {
    "name": "ipython",
    "version": 3
   },
   "file_extension": ".py",
   "mimetype": "text/x-python",
   "name": "python",
   "nbconvert_exporter": "python",
   "pygments_lexer": "ipython3",
   "version": "3.13.2"
  }
 },
 "nbformat": 4,
 "nbformat_minor": 5
}
